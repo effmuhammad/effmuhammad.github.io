{
 "cells": [
  {
   "cell_type": "markdown",
   "metadata": {},
   "source": [
    "## Half Labelling"
   ]
  },
  {
   "cell_type": "code",
   "execution_count": 58,
   "metadata": {},
   "outputs": [],
   "source": [
    "import pandas as pd\n",
    "import os\n",
    "\n",
    "# masukkan dulu direktori dataset yang ingin di label\n",
    "path = 'G:\\My Drive\\.project_file\\dataset/2022-07-25'\n",
    "\n",
    "if not os.path.exists(path+'/all_zero'):\n",
    "    os.mkdir(path+'/all_zero')\n",
    "if not os.path.exists(path+'/give_edit'):\n",
    "    os.mkdir(path+'/give_edit')\n",
    "\n",
    "list_dir = os.listdir(path)\n",
    "\n",
    "for x in ['terminal_msg.txt','give_edit','all_zero']:\n",
    "    list_dir.remove(x)"
   ]
  },
  {
   "cell_type": "code",
   "execution_count": 59,
   "metadata": {},
   "outputs": [],
   "source": [
    "for filename in list_dir:\n",
    "    df = pd.read_csv(path+'/'+filename, sep=',')\n",
    "\n",
    "    if len(df['bid[1]'].unique()) > 3:\n",
    "        df['label'] = ''\n",
    "        df.to_csv(path+'/give_edit/'+filename, sep=';', index=False)\n",
    "        \n",
    "    else:\n",
    "        df['label'] = 0\n",
    "        df.to_csv(path+'/all_zero/'+filename, sep=';', index=False)\n",
    "        \n",
    "    if os.path.exists(path+'/'+filename):\n",
    "        os.remove(path+'/'+filename)"
   ]
  },
  {
   "cell_type": "markdown",
   "metadata": {},
   "source": [
    "## Full Labelling"
   ]
  },
  {
   "cell_type": "code",
   "execution_count": 1,
   "metadata": {},
   "outputs": [],
   "source": [
    "import pandas as pd\n",
    "import os\n",
    "\n",
    "# masukkan dulu direktori dataset yang ingin di label\n",
    "path = 'G:\\My Drive\\.project_file\\dataset/2022-07-22 - Copy'\n",
    "\n",
    "if not os.path.exists(path+'/all_zero'):\n",
    "    os.mkdir(path+'/all_zero')\n",
    "if not os.path.exists(path+'/give_edit'):\n",
    "    os.mkdir(path+'/give_edit')\n",
    "\n",
    "list_dir = os.listdir(path)\n",
    "\n",
    "for x in ['terminal_msg.txt','give_edit','all_zero']:\n",
    "    list_dir.remove(x)"
   ]
  },
  {
   "cell_type": "code",
   "execution_count": null,
   "metadata": {},
   "outputs": [],
   "source": [
    "for filename in list_dir:\n",
    "    df = pd.read_csv(path+'/'+filename, sep=',')\n",
    "\n",
    "    if len(df['bid[1]'].unique()) > 3:\n",
    "        df['label'] = ''\n",
    "        for index, rows in df.iterrows():\n",
    "            print(rows['column'])\n",
    "        df.to_csv(path+'/give_edit/'+filename, sep=';', index=False)\n",
    "        \n",
    "    else:\n",
    "        df['label'] = 0\n",
    "        df.to_csv(path+'/all_zero/'+filename, sep=';', index=False)"
   ]
  }
 ],
 "metadata": {
  "kernelspec": {
   "display_name": "Python 3.8.0 64-bit",
   "language": "python",
   "name": "python3"
  },
  "language_info": {
   "codemirror_mode": {
    "name": "ipython",
    "version": 3
   },
   "file_extension": ".py",
   "mimetype": "text/x-python",
   "name": "python",
   "nbconvert_exporter": "python",
   "pygments_lexer": "ipython3",
   "version": "3.8.0"
  },
  "orig_nbformat": 4,
  "vscode": {
   "interpreter": {
    "hash": "52cec8aaadfad774486218c8a56524f5464b2e7c2989816453def1b1836c7aed"
   }
  }
 },
 "nbformat": 4,
 "nbformat_minor": 2
}
